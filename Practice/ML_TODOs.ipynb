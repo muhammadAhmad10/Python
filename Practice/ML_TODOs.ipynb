{
 "cells": [
  {
   "cell_type": "code",
   "execution_count": 3,
   "metadata": {},
   "outputs": [
    {
     "name": "stdout",
     "output_type": "stream",
     "text": [
      "8\n",
      "Passed\n"
     ]
    }
   ],
   "source": [
    "#Irfan has three numbers (N1 = 5, N2 = 10, N3 = 7). He wants to \n",
    "# write a Program to add the first two numbers and subtract the \n",
    "# third number from the sum of first two numbers\n",
    "N1=5\n",
    "N2=10\n",
    "N3=7\n",
    "\n",
    "result = (N1+N2)-N3\n",
    "print(result)\n",
    "\n",
    "# Abdul Jabbar scored 80 marks in Machine Learning Course. He \n",
    "# wants to write a Program which tells him whether he passed in \n",
    "# the course or not? Note you should use If-Else Selection \n",
    "# Structure in your Program\n",
    "marks = 80\n",
    "if(marks<50 and marks>=0):\n",
    "    print('Failed')\n",
    "elif(marks<=100 and marks>=50):\n",
    "    print('Passed')\n",
    "\n"
   ]
  }
 ],
 "metadata": {
  "kernelspec": {
   "display_name": "base",
   "language": "python",
   "name": "python3"
  },
  "language_info": {
   "codemirror_mode": {
    "name": "ipython",
    "version": 3
   },
   "file_extension": ".py",
   "mimetype": "text/x-python",
   "name": "python",
   "nbconvert_exporter": "python",
   "pygments_lexer": "ipython3",
   "version": "3.9.13"
  },
  "orig_nbformat": 4
 },
 "nbformat": 4,
 "nbformat_minor": 2
}
