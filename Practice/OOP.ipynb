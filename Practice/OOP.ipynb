{
 "cells": [
  {
   "cell_type": "code",
   "execution_count": 23,
   "metadata": {},
   "outputs": [
    {
     "name": "stdout",
     "output_type": "stream",
     "text": [
      "Name: zahid and user type: student and age is: 22 and cnic is:\n",
      "I am tutor\n",
      "Name: Rashid and user type: Teacher and age is: 45 and cnic: 572347959235394\n",
      "Student class testing\n",
      "Name: zahid and user type: student and age is: 61 and gender is: Male and father: askljdfklasdjkl\n",
      "I am student\n",
      "Name: Hamza and user type: Student and age is: 22\n"
     ]
    }
   ],
   "source": [
    "class Person:\n",
    "    def __init__(self):\n",
    "        name = 'Muhammad Ahmad'\n",
    "        type = 'Student'\n",
    "        age = 21\n",
    "        gender = 'Male'\n",
    "        _cninc = 3530389689557\n",
    "\n",
    "    # def setCnic(self,cnic):\n",
    "    #     __cnic = cnic\n",
    "    \n",
    "    def addPerson(self):\n",
    "        self.name = 'Rashid'\n",
    "        self.type = 'Teacher'\n",
    "        self.age = 45\n",
    "        self.__cnic = 572347959235394\n",
    "        print('I am tutor')\n",
    "        print(f'Name: {self.name} and user type: {self.type} and age is: {self.age} and cnic: {self.__cnic}')\n",
    "\n",
    "class Student(Person):\n",
    "    father = 'afsdfjklasf'\n",
    "    def addStudent(self):\n",
    "        self.name = 'Hamza'\n",
    "        self.type = 'Student'\n",
    "        self.age = 22\n",
    "        self.father = 'slfasjlkdflka'\n",
    "        print('I am student')\n",
    "        print(f'Name: {self.name} and user type: {self.type} and age is: {self.age}')\n",
    "\n",
    "person = Person()\n",
    "person1 = Person()\n",
    "person1.name = 'zahid'\n",
    "person1.type = 'student'\n",
    "person1.age = 22\n",
    "person1.__cnic = 2234234234\n",
    "print(f'Name: {person1.name} and user type: {person1.type} and age is: {person1.age} and cnic is:')\n",
    "# print(f'Name: {person.name} and user type: {person.type} and age is: {person.age}')\n",
    "person.addPerson()\n",
    "\n",
    "print('Student class testing')\n",
    "student = Student()\n",
    "student1 = Student()\n",
    "student1.name = 'zahid'\n",
    "student1.type = 'student'\n",
    "student1.age = 61\n",
    "student1.gender = 'Male'\n",
    "student1.father = 'askljdfklasdjkl'\n",
    "print(f'Name: {student1.name} and user type: {student1.type} and age is: {student1.age} and gender is: {student1.gender} and father: {student1.father}')\n",
    "\n",
    "student.addStudent()"
   ]
  }
 ],
 "metadata": {
  "kernelspec": {
   "display_name": "base",
   "language": "python",
   "name": "python3"
  },
  "language_info": {
   "codemirror_mode": {
    "name": "ipython",
    "version": 3
   },
   "file_extension": ".py",
   "mimetype": "text/x-python",
   "name": "python",
   "nbconvert_exporter": "python",
   "pygments_lexer": "ipython3",
   "version": "3.9.13"
  },
  "orig_nbformat": 4
 },
 "nbformat": 4,
 "nbformat_minor": 2
}
