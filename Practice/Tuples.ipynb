{
 "cells": [
  {
   "cell_type": "code",
   "execution_count": null,
   "metadata": {},
   "outputs": [],
   "source": [
    "#Tuples are data types in which we cannot change the items\n",
    "Tuple = (3,4,1,5,77,1)\n",
    "print(Tuple)\n",
    "\n",
    "#iterating through tuple\n",
    "for x in Tuple:\n",
    "    print(x)\n",
    "\n",
    "#accessing tuple elements\n",
    "print(Tuple[1:3])\n",
    "\n",
    "#accessing tuple elements in reverse order\n",
    "print('Index of item in reverse order: ',Tuple[-4])\n",
    "\n",
    "#finding the index of item in tuple\n",
    "print('Index of 5 is: ',Tuple.index(5))\n",
    "\n",
    "#counting the number of times an item exists in tuple\n",
    "print('Number of times 1 exist in tuple: ',Tuple.count(1))\n",
    "\n",
    "#creating an empty tuple\n",
    "Tuple1 = tuple()\n",
    "\n",
    "#inserting values in tuple\n"
   ]
  }
 ],
 "metadata": {
  "kernelspec": {
   "display_name": "base",
   "language": "python",
   "name": "python3"
  },
  "language_info": {
   "codemirror_mode": {
    "name": "ipython",
    "version": 3
   },
   "file_extension": ".py",
   "mimetype": "text/x-python",
   "name": "python",
   "nbconvert_exporter": "python",
   "pygments_lexer": "ipython3",
   "version": "3.9.13"
  },
  "orig_nbformat": 4
 },
 "nbformat": 4,
 "nbformat_minor": 2
}
