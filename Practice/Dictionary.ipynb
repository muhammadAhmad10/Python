{
 "cells": [
  {
   "cell_type": "code",
   "execution_count": null,
   "metadata": {},
   "outputs": [],
   "source": [
    "#dictionary is an ordered data type in form of key-value form, keys are unique identifiers and are associated with items\n",
    "\n",
    "#defining the dictionary\n",
    "Dict = {1:'Ahmad',2:'Rashid'}\n",
    "print(Dict)\n",
    "\n",
    "#iterating over the dictionary and printing the keys\n",
    "for x in Dict:\n",
    "    print(x)\n",
    "\n",
    "#creating empty dictionary\n",
    "Dict1 = dict()\n",
    "print(type(Dict1))\n",
    "\n",
    "#adding elements in dictionary\n",
    "Dict1[1] = \"Amjad\"\n",
    "Dict1[2] = \"Abdullah\"\n",
    "Dict1[3] = \"Hamza\"\n",
    "Dict1[0] = \"Muhammad Ahmad\"\n",
    "print(Dict1)\n",
    "\n",
    "#changing value of dictionary item\n",
    "Dict1[1] =  \"Amjad Merani\"\n",
    "print(Dict1)\n",
    "\n",
    "#accessing elements from dictionary\n",
    "print(Dict1[1]) #if we tried to access value of key that doesn't exist then we will get an error\n",
    "\n",
    "#removing elements from dictionary\n",
    "del Dict1[1]\n",
    "print(Dict1)\n",
    "\n",
    "#deleting entire dictionary - deleting all elements\n",
    "Dict2 = {1:'Ahmad',2:'Rashid'}\n",
    "del Dict2\n",
    "\n",
    "#finding whether all elements of dictionary are true. it will return false if any element is false\n",
    "print(all(Dict1))\n",
    "\n",
    "#finding if any element of dictionary is true. it will return false if all elements are false\n",
    "print(any(Dict1))\n",
    "\n",
    "#finding length of dictionary\n",
    "print(len(Dict1))\n",
    "\n",
    "#sorting the dictionary elements\n",
    "sortedElements = sorted(Dict1)\n",
    "print(sortedElements)\n",
    "\n",
    "#getting a list of dictionary keys\n",
    "print(Dict1.keys())\n",
    "\n",
    "#getting a list of dictionary values\n",
    "print(Dict1.values())\n",
    "\n"
   ]
  }
 ],
 "metadata": {
  "kernelspec": {
   "display_name": "base",
   "language": "python",
   "name": "python3"
  },
  "language_info": {
   "codemirror_mode": {
    "name": "ipython",
    "version": 3
   },
   "file_extension": ".py",
   "mimetype": "text/x-python",
   "name": "python",
   "nbconvert_exporter": "python",
   "pygments_lexer": "ipython3",
   "version": "3.9.13"
  },
  "orig_nbformat": 4
 },
 "nbformat": 4,
 "nbformat_minor": 2
}
