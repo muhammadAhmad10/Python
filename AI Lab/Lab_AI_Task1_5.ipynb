{
 "cells": [
  {
   "cell_type": "code",
   "execution_count": 5,
   "metadata": {},
   "outputs": [
    {
     "data": {
      "text/plain": [
       "250"
      ]
     },
     "execution_count": 5,
     "metadata": {},
     "output_type": "execute_result"
    }
   ],
   "source": [
    "graph = {\n",
    "    'Oradea':{'Zerind':71,'Sibiu':151},\n",
    "    'Zerind':{'Arad':75,'Oradea':71},\n",
    "    'Arad':{'Timisoara':118,'Sibiu':140,'Zerind':75},\n",
    "    'Sibiu':{'Fagaraw':99,'Rimnicu Vilcea':80,'Oradea':151,'Arad':140},\n",
    "    'Timisoara':{'Lugoj':111,'Arad':118},\n",
    "    'Lugoj':{'Timisoara':111,'Mehadia':70},\n",
    "    'Rimnicu Vilcea':{'Sibiu':80,'Craiova':146,'Pitesti':97},\n",
    "    'Mehadia':{'Lugoj':70,'Drobeta':75},\n",
    "    'Drobeta':{'Mehadia':75,'Craiova':120},\n",
    "    'Pitesti':{'Rimnicu Vilcea':97,'Craiova':138,'Bucharest':101},\n",
    "    'Craiova':{'Drobeta':120,'Rimnicu Vilcea':146,'Pitesti':138},\n",
    "    'Fagaraw':{'Sibiu':99,'Bucharest':211},\n",
    "    'Bucharest':{'Pitesti':101,'Giurgin':90,'Fagaraw':211,'Urziceni':85},\n",
    "    'Giurgin':{'Bucharest':90},\n",
    "    'Urziceni':{'Bucharest':85,'Hirsova':98,'Vaslui':142},\n",
    "    'Eforie':{'Hirsova':86},\n",
    "    'Hirsova':{'Eforie':86,'Urziceni':98},\n",
    "    'Vaslui':{'Urziceni':142,'Iasi':92},\n",
    "    'Iasi':{'Vaslui':92,'Neamt':87},\n",
    "    'Neamt':{'Iasi':87}\n",
    "}\n",
    "\n",
    "import sys\n",
    "def dijkstra(graph, start):\n",
    "    distances = {node: sys.maxsize for node in graph}\n",
    "    distances[start] = 0\n",
    "    visited = set()\n",
    "    \n",
    "    while visited != graph.keys():\n",
    "        node = min((set(distances.keys()) - visited), key=distances.get)\n",
    "        visited.add(node)\n",
    "        for neighbor, weight in graph[node].items():\n",
    "            total_distance = distances[node] + weight\n",
    "            if total_distance < distances[neighbor]:\n",
    "                distances[neighbor] = total_distance\n",
    "    \n",
    "    return distances\n",
    "dijkstra(graph=graph,start='Oradea')\n",
    "\n",
    "\n",
    "\n",
    "import heapq\n",
    "\n",
    "def ucs(graph, start, goal):\n",
    "    frontier = [(0, start)]\n",
    "    explored = set()\n",
    "    while frontier:\n",
    "        current_cost, current_node = heapq.heappop(frontier)\n",
    "        if current_node == goal:\n",
    "            return current_cost\n",
    "        explored.add(current_node)\n",
    "        for neighbor, cost in graph[current_node].items():\n",
    "            new_cost = current_cost + cost\n",
    "            if neighbor not in explored:\n",
    "                frontier_cost = next((c for (c, n) in frontier if n == neighbor), None)\n",
    "                if frontier_cost is None or new_cost < frontier_cost:\n",
    "                    heapq.heappush(frontier, (new_cost, neighbor))\n",
    "    return None\n",
    "\n",
    "ucs(graph=graph,start='Oradea',goal='Fagaraw')"
   ]
  }
 ],
 "metadata": {
  "kernelspec": {
   "display_name": "base",
   "language": "python",
   "name": "python3"
  },
  "language_info": {
   "codemirror_mode": {
    "name": "ipython",
    "version": 3
   },
   "file_extension": ".py",
   "mimetype": "text/x-python",
   "name": "python",
   "nbconvert_exporter": "python",
   "pygments_lexer": "ipython3",
   "version": "3.9.13"
  },
  "orig_nbformat": 4
 },
 "nbformat": 4,
 "nbformat_minor": 2
}
